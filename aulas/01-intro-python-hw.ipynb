{
  "cells": [
    {
      "cell_type": "markdown",
      "metadata": {
        "id": "view-in-github",
        "colab_type": "text"
      },
      "source": [
        "<a href=\"https://colab.research.google.com/github/raquel1998c/Libft/blob/main/aulas/01-intro-python-hw.ipynb\" target=\"_parent\"><img src=\"https://colab.research.google.com/assets/colab-badge.svg\" alt=\"Open In Colab\"/></a>"
      ]
    },
    {
      "cell_type": "markdown",
      "metadata": {
        "id": "3zifReHdINEu"
      },
      "source": [
        "# Homework Exercises\n",
        "\n",
        "## Part A"
      ]
    },
    {
      "cell_type": "markdown",
      "metadata": {
        "id": "qAAHFs5wINEv"
      },
      "source": [
        "Answer these 3 questions without typing code. Then type code to check your answer.\n",
        "\n",
        "- What is the value of the expression 4 * (6 + 5)\n",
        "\n",
        "- What is the value of the expression 4 * 6 + 5\n",
        "\n",
        "- What is the value of the expression 4 + 6 * 5"
      ]
    },
    {
      "cell_type": "code",
      "execution_count": 58,
      "metadata": {
        "id": "kcD1kj-rINEw"
      },
      "outputs": [],
      "source": [
        "def operations(*args):\n",
        "    i = 0\n",
        "    while i < len(args):\n",
        "        if args[i] in ('+', '*', '-'):\n",
        "            if (type(args[i-1]) == int or type(args[i-1]) == float) and (type(args[i+1]) == int or type(args[i+1]) == float):\n",
        "                if args[i] == '+':\n",
        "                    return args[i-1] + args[i+1]\n",
        "                elif args[i] == '*':\n",
        "                    return args[i-1] * args[i+1]\n",
        "                elif args[i] == '-':\n",
        "                    return args[i-1] - args[i+1]\n",
        "                elif args[i] == '/':\n",
        "                    return args[i-1] / args[i+1]\n",
        "        i += 1\n",
        "\n",
        "\n",
        "\n"
      ]
    },
    {
      "cell_type": "code",
      "source": [
        "a = 4\n",
        "b = 6\n",
        "c = 5\n",
        "\n",
        "print(f\"4 * (6 + 5) = {operations(a *  (b + c))}\")\n",
        "print(f\"4 * 6 + 5 = {operations(a * b + c)}\")\n",
        "print(f\"4 + 6 * 5 = {operations(a + (b * c))}\")\n"
      ],
      "metadata": {
        "id": "ORBp3CW0N3TG",
        "outputId": "fac6a160-262b-40f1-d271-babaabd0ccbc",
        "colab": {
          "base_uri": "https://localhost:8080/"
        }
      },
      "execution_count": 57,
      "outputs": [
        {
          "output_type": "stream",
          "name": "stdout",
          "text": [
            "4 * (6 + 5) = None\n",
            "4 * 6 + 5 = None\n",
            "4 + 6 * 5 = None\n"
          ]
        }
      ]
    },
    {
      "cell_type": "markdown",
      "metadata": {
        "id": "-xUfYMENINEx"
      },
      "source": [
        "1. What is the type of the result of the expression 3 + 1.5 + 4?"
      ]
    },
    {
      "cell_type": "code",
      "execution_count": 27,
      "metadata": {
        "id": "ylCeZTkfINEx",
        "outputId": "9474c67a-eb29-4301-f82d-a3a24e74b198",
        "colab": {
          "base_uri": "https://localhost:8080/"
        }
      },
      "outputs": [
        {
          "output_type": "execute_result",
          "data": {
            "text/plain": [
              "8.5"
            ]
          },
          "metadata": {},
          "execution_count": 27
        }
      ],
      "source": [
        "result=sum([3,1.5,4])\n",
        "result"
      ]
    },
    {
      "cell_type": "markdown",
      "metadata": {
        "id": "PflD9RY5INEx"
      },
      "source": [
        "2. Given the string `'hello'` give an index command that returns 'e'."
      ]
    },
    {
      "cell_type": "code",
      "execution_count": 31,
      "metadata": {
        "id": "Wlvzz0PkINEy",
        "outputId": "65cfd365-2cb2-4272-d92a-018ae9ed30fe",
        "colab": {
          "base_uri": "https://localhost:8080/"
        }
      },
      "outputs": [
        {
          "output_type": "stream",
          "name": "stdout",
          "text": [
            "e\n",
            "e\n"
          ]
        }
      ],
      "source": [
        "frase=[\"hello\"]\n",
        "print(frase[0][1])\n",
        "\n",
        "frase1=\"hello\"\n",
        "print(frase1[1])\n"
      ]
    },
    {
      "cell_type": "markdown",
      "metadata": {
        "id": "NCSa19cXINEy"
      },
      "source": [
        "3. Given the string `hello`, give two methods of producing the letter 'o' using indexing."
      ]
    },
    {
      "cell_type": "code",
      "execution_count": 32,
      "metadata": {
        "id": "iZaR25ETINEz",
        "outputId": "3a3dfb10-5784-45fd-99c6-51d2bb4bcb46",
        "colab": {
          "base_uri": "https://localhost:8080/"
        }
      },
      "outputs": [
        {
          "output_type": "stream",
          "name": "stdout",
          "text": [
            "o\n",
            "o\n"
          ]
        }
      ],
      "source": [
        "frase=[\"hello\"]\n",
        "print(frase[0][4])\n",
        "\n",
        "frase1=\"hello\"\n",
        "print(frase1[-1])"
      ]
    },
    {
      "cell_type": "markdown",
      "metadata": {
        "id": "NDgnaKKTINEz"
      },
      "source": [
        "4. Given the following list, and using indexing, isolate the word 'hello'."
      ]
    },
    {
      "cell_type": "code",
      "execution_count": 34,
      "metadata": {
        "id": "YqeuVvI9INEz",
        "outputId": "f018716b-fec9-4160-eeba-a80edea2892b",
        "colab": {
          "base_uri": "https://localhost:8080/"
        }
      },
      "outputs": [
        {
          "output_type": "execute_result",
          "data": {
            "text/plain": [
              "[1, 2, [3, 4], 5, [100, 200], ['hello', 'nice'], 23, 11, 1, 7]"
            ]
          },
          "metadata": {},
          "execution_count": 34
        }
      ],
      "source": [
        "lst = [1, 2, [3, 4], 5, [100, 200], ['hello', 'nice'], 23, 11, 1, 7]\n",
        "lst"
      ]
    },
    {
      "cell_type": "code",
      "execution_count": 36,
      "metadata": {
        "id": "0CP3SLrWINEz",
        "outputId": "b80412b8-340f-49f2-e17d-07349304fe77",
        "colab": {
          "base_uri": "https://localhost:8080/"
        }
      },
      "outputs": [
        {
          "output_type": "stream",
          "name": "stdout",
          "text": [
            "hello\n"
          ]
        }
      ],
      "source": [
        "print(lst[5][0])"
      ]
    },
    {
      "cell_type": "markdown",
      "metadata": {
        "id": "Qiryy7M3INEz"
      },
      "source": [
        "5. Using keys and indexing, grab the `'hello'` from the following dictionary"
      ]
    },
    {
      "cell_type": "code",
      "execution_count": 38,
      "metadata": {
        "id": "E6bbuH_4INE0",
        "outputId": "7dd8cf65-b26f-4fc1-c740-3b0185f56924",
        "colab": {
          "base_uri": "https://localhost:8080/"
        }
      },
      "outputs": [
        {
          "output_type": "execute_result",
          "data": {
            "text/plain": [
              "{'msg': 'hello',\n",
              " 'day': 'sunday',\n",
              " 'month': 'may',\n",
              " 'age': 21,\n",
              " 'people': ['bob', 'ana', 'john']}"
            ]
          },
          "metadata": {},
          "execution_count": 38
        }
      ],
      "source": [
        "d = {'msg':'hello', 'day':'sunday', 'month':'may', 'age':21, 'people':['bob', \"ana\", 'john']}\n",
        "d"
      ]
    },
    {
      "cell_type": "code",
      "execution_count": 39,
      "metadata": {
        "id": "b3Wb9HhPINE0",
        "outputId": "7f438c61-3a90-4442-d483-a84b79aae4b7",
        "colab": {
          "base_uri": "https://localhost:8080/"
        }
      },
      "outputs": [
        {
          "output_type": "stream",
          "name": "stdout",
          "text": [
            "hello\n"
          ]
        }
      ],
      "source": [
        "print(d['msg'])"
      ]
    },
    {
      "cell_type": "markdown",
      "metadata": {
        "id": "rV_JwtcxINE0"
      },
      "source": [
        "6. What is the major difference between tuples and lists?"
      ]
    },
    {
      "cell_type": "code",
      "execution_count": null,
      "metadata": {
        "id": "Mmv5kMBTINE0"
      },
      "outputs": [],
      "source": [
        "tpl =(a,b,True)\n",
        "lst =[a,1,c]\n",
        "\n",
        "#tpl imutable lst mutable. lst, same dtypes, tpl different dtypes"
      ]
    },
    {
      "cell_type": "markdown",
      "metadata": {
        "id": "9UBHOmf3INE0"
      },
      "source": [
        "## Part B"
      ]
    },
    {
      "cell_type": "markdown",
      "metadata": {
        "id": "xAfxJlDGINE0"
      },
      "source": [
        "1. What is the output of the following function that receives two numbers as arguments?"
      ]
    },
    {
      "cell_type": "code",
      "execution_count": 40,
      "metadata": {
        "id": "kZ-XfsAiINE0"
      },
      "outputs": [],
      "source": [
        "def smaller(x, y):\n",
        "    if x <= y:\n",
        "        return x\n",
        "    else:\n",
        "        return y"
      ]
    },
    {
      "cell_type": "code",
      "execution_count": 41,
      "metadata": {
        "id": "dds2Q41JINE0",
        "outputId": "9a4e26f0-6bea-4187-abbb-a31081944dfe",
        "colab": {
          "base_uri": "https://localhost:8080/"
        }
      },
      "outputs": [
        {
          "output_type": "stream",
          "name": "stdout",
          "text": [
            "3\n"
          ]
        }
      ],
      "source": [
        "x = 10\n",
        "y = 3\n",
        "print(smaller(x, y))"
      ]
    },
    {
      "cell_type": "markdown",
      "metadata": {
        "id": "_-x_fs4RINE0"
      },
      "source": [
        "2. Write a function that takes two numbers and returns the biggest one"
      ]
    },
    {
      "cell_type": "code",
      "execution_count": 43,
      "metadata": {
        "id": "L8sRvL-IINE0",
        "outputId": "becb7d15-0b98-4a18-f541-5a6dea260782",
        "colab": {
          "base_uri": "https://localhost:8080/"
        }
      },
      "outputs": [
        {
          "output_type": "stream",
          "name": "stdout",
          "text": [
            "10\n"
          ]
        }
      ],
      "source": [
        "def bigger(x, y):\n",
        "    if x >= y:\n",
        "        return x\n",
        "    else:\n",
        "        return y\n",
        "\n",
        "x = 10\n",
        "y = 3\n",
        "print(bigger(x, y))"
      ]
    },
    {
      "cell_type": "markdown",
      "metadata": {
        "id": "AdeH8yLkINE0"
      },
      "source": [
        "3. Write a function that calculates the sum of two numbers"
      ]
    },
    {
      "cell_type": "markdown",
      "source": [
        "\n",
        "\n",
        "1.   Item de lista\n",
        "2.   Item de lista\n",
        "\n"
      ],
      "metadata": {
        "id": "Gdxz_opA32SY"
      }
    },
    {
      "cell_type": "code",
      "execution_count": 59,
      "metadata": {
        "id": "bo-NYsoFINE1"
      },
      "outputs": [],
      "source": [
        "def sum_numbers(x, y):\n",
        "    return x + y\n",
        ""
      ]
    },
    {
      "cell_type": "markdown",
      "metadata": {
        "id": "vS-EDNE4INE1"
      },
      "source": [
        "4. Write a function that checks if a number is negative"
      ]
    },
    {
      "cell_type": "code",
      "execution_count": null,
      "metadata": {
        "id": "LSc7XH8-INE1"
      },
      "outputs": [],
      "source": []
    },
    {
      "cell_type": "markdown",
      "metadata": {
        "id": "-wlzdOX9INE1"
      },
      "source": [
        "## Check if a number is multiple of another\n",
        "Consider the following function that takes two arguments and checks if the first is multiple of the second"
      ]
    },
    {
      "cell_type": "code",
      "execution_count": null,
      "metadata": {
        "id": "1-S77-sBINE1"
      },
      "outputs": [],
      "source": [
        "def is_multiple(x, y):\n",
        "    return x % y == 0"
      ]
    },
    {
      "cell_type": "code",
      "execution_count": null,
      "metadata": {
        "id": "ahsJQqz-INE1"
      },
      "outputs": [],
      "source": [
        "print(is_multiple(9,3))"
      ]
    },
    {
      "cell_type": "markdown",
      "metadata": {
        "id": "VUuh30vPINE1"
      },
      "source": [
        "1. Write a function that checks if a number is even"
      ]
    },
    {
      "cell_type": "code",
      "execution_count": null,
      "metadata": {
        "id": "Km75AyjCINE1"
      },
      "outputs": [],
      "source": [
        "def is_even(x):\n",
        "    # TODO\n",
        "    pass"
      ]
    },
    {
      "cell_type": "markdown",
      "metadata": {
        "id": "c2o901ntINE1"
      },
      "source": [
        "## Control structures: `for` and `while`\n",
        "Consider the following function that sums all the numbers up to a number `n`"
      ]
    },
    {
      "cell_type": "code",
      "execution_count": null,
      "metadata": {
        "id": "TOOdUaWDINE1"
      },
      "outputs": [],
      "source": [
        "def sum_naturals_up_to(n):\n",
        "    total = 0\n",
        "    i = 1\n",
        "    while i <= n:\n",
        "        total = total + i\n",
        "        i = i + 1\n",
        "    return total"
      ]
    },
    {
      "cell_type": "code",
      "execution_count": null,
      "metadata": {
        "id": "SJsSUJxBINE1"
      },
      "outputs": [],
      "source": [
        "sum_naturals_up_to(5)"
      ]
    },
    {
      "cell_type": "markdown",
      "metadata": {
        "id": "_qnasOL0INE1"
      },
      "source": [
        "1. Write a function that sums all the numbers between `a` and `b` (including them)"
      ]
    },
    {
      "cell_type": "code",
      "execution_count": null,
      "metadata": {
        "id": "YpEgx4PzINE1"
      },
      "outputs": [],
      "source": [
        "def sum_naturals(a, b):\n",
        "    # TODO\n",
        "    pass"
      ]
    },
    {
      "cell_type": "markdown",
      "metadata": {
        "id": "a3_OYxGLINE1"
      },
      "source": [
        "2. Write a function that sums all the even numbers between `a` and `b` (including 'a' and 'b')"
      ]
    },
    {
      "cell_type": "code",
      "execution_count": null,
      "metadata": {
        "id": "vMklsk--INE2"
      },
      "outputs": [],
      "source": [
        "def sum_even_naturals(a, b):\n",
        "    # TODO\n",
        "    pass"
      ]
    },
    {
      "cell_type": "markdown",
      "metadata": {
        "id": "-NKS3EX_INE5"
      },
      "source": [
        "## Control structures: for loop"
      ]
    },
    {
      "cell_type": "markdown",
      "metadata": {
        "id": "txOXefsjINE5"
      },
      "source": [
        "Consider the following function that sums all the numbers up to a number `n`"
      ]
    },
    {
      "cell_type": "code",
      "execution_count": null,
      "metadata": {
        "id": "AP-565-kINE5"
      },
      "outputs": [],
      "source": [
        "def sum_naturals_up_to2(n):\n",
        "    total = 0\n",
        "    for i in range(n+1):\n",
        "        total = total + i\n",
        "    return total"
      ]
    },
    {
      "cell_type": "code",
      "execution_count": null,
      "metadata": {
        "id": "RhWZEVlHINE5"
      },
      "outputs": [],
      "source": [
        "sum_naturals_up_to2(5)"
      ]
    },
    {
      "cell_type": "markdown",
      "metadata": {
        "id": "chGGBPjKINE5"
      },
      "source": [
        "1. Write a function that sums all the numbers between `a` and `b` (including them)"
      ]
    },
    {
      "cell_type": "code",
      "execution_count": null,
      "metadata": {
        "id": "Ci64fkjRINE5"
      },
      "outputs": [],
      "source": [
        "def sum_naturals(a, b):\n",
        "    # TODO\n",
        "    pass"
      ]
    },
    {
      "cell_type": "markdown",
      "metadata": {
        "id": "7tM-hYOKINE6"
      },
      "source": [
        "2. Write a function that sums all the even numbers between `a` and `b` (including 'a' and 'b')"
      ]
    },
    {
      "cell_type": "code",
      "execution_count": null,
      "metadata": {
        "id": "2g5Jnz_MINE6"
      },
      "outputs": [],
      "source": [
        "def sum_even_naturals(a, b):\n",
        "    # TODO\n",
        "    pass"
      ]
    },
    {
      "cell_type": "markdown",
      "metadata": {
        "id": "DOOHwK3sINE6"
      },
      "source": [
        "3. Write the multiplication table for the numbers 1 to 10"
      ]
    },
    {
      "cell_type": "code",
      "execution_count": null,
      "metadata": {
        "id": "mUKitYXRINE6"
      },
      "outputs": [],
      "source": []
    },
    {
      "cell_type": "markdown",
      "metadata": {
        "id": "Q6KTFGQQINE6"
      },
      "source": [
        "## Input and output\n",
        "The following function asks for a positive number until a positive number is introduded"
      ]
    },
    {
      "cell_type": "code",
      "execution_count": null,
      "metadata": {
        "id": "rJB5FLNQINE6"
      },
      "outputs": [],
      "source": [
        "def positive_number():\n",
        "    n = float(input(\"Positive number:\"))\n",
        "    while n <= 0:\n",
        "        print(\"The number {} is not positive\".format(n))\n",
        "        n = float(input(\"Positive number:\"))\n",
        "    return n\n",
        "\n",
        "mynum = positive_number()\n",
        "mynum"
      ]
    },
    {
      "cell_type": "markdown",
      "metadata": {
        "id": "ucc4SKMAINE6"
      },
      "source": [
        "1. Write a function that asks for a valid age. By default, a valid age belongs to the interval [0..100]"
      ]
    },
    {
      "cell_type": "code",
      "execution_count": null,
      "metadata": {
        "id": "2mf9siQCINE6"
      },
      "outputs": [],
      "source": [
        "def ask_for_age(a=0, b=100):\n",
        "    # TODO\n",
        "    pass"
      ]
    },
    {
      "cell_type": "markdown",
      "metadata": {
        "id": "DOVX2dQ_INE6"
      },
      "source": [
        "## Lists\n",
        "The following function caclulates the sum of all numbers in a given list  "
      ]
    },
    {
      "cell_type": "code",
      "execution_count": null,
      "metadata": {
        "id": "tOER-_TJINE6"
      },
      "outputs": [],
      "source": [
        "def sum_all(lst):\n",
        "    total = 0.0\n",
        "    for num in lst:\n",
        "        total = total + num\n",
        "    return total"
      ]
    },
    {
      "cell_type": "code",
      "execution_count": null,
      "metadata": {
        "id": "2S-kFOCTINE6"
      },
      "outputs": [],
      "source": [
        "sum_all([3, 2, 7])"
      ]
    },
    {
      "cell_type": "markdown",
      "metadata": {
        "id": "47UElll8INE6"
      },
      "source": [
        "1. Write a function that receives a list of numbers as argument and returns their average"
      ]
    },
    {
      "cell_type": "code",
      "execution_count": null,
      "metadata": {
        "id": "arb1k2AmINE6"
      },
      "outputs": [],
      "source": [
        "def average(lst):\n",
        "    # TODO\n",
        "    pass"
      ]
    },
    {
      "cell_type": "code",
      "execution_count": null,
      "metadata": {
        "id": "fExEs9R-INE7"
      },
      "outputs": [],
      "source": []
    }
  ],
  "metadata": {
    "kernelspec": {
      "display_name": "Python 3",
      "language": "python",
      "name": "python3"
    },
    "language_info": {
      "codemirror_mode": {
        "name": "ipython",
        "version": 3
      },
      "file_extension": ".py",
      "mimetype": "text/x-python",
      "name": "python",
      "nbconvert_exporter": "python",
      "pygments_lexer": "ipython3",
      "version": "3.8.10"
    },
    "toc-autonumbering": false,
    "colab": {
      "provenance": [],
      "include_colab_link": true
    }
  },
  "nbformat": 4,
  "nbformat_minor": 0
}